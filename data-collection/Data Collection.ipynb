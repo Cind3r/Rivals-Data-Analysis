{
 "cells": [
  {
   "cell_type": "markdown",
   "id": "8fca910e",
   "metadata": {},
   "source": [
    "### Run data collection"
   ]
  },
  {
   "cell_type": "code",
   "execution_count": null,
   "id": "6f560ec2",
   "metadata": {},
   "outputs": [],
   "source": [
    "import requests\n",
    "from requests.adapters import HTTPAdapter\n",
    "from requests.packages.urllib3.util.retry import Retry\n",
    "import pandas as pd\n",
    "import json\n",
    "import time\n",
    "import numpy as np\n",
    "from pandas import json_normalize\n",
    "\n",
    "# Custom files\n",
    "import MRAPI\n",
    "\n",
    "api_key = ''\n",
    "user_id = 1306734986"
   ]
  },
  {
   "cell_type": "markdown",
   "id": "1a9b6295",
   "metadata": {},
   "source": [
    "***"
   ]
  },
  {
   "cell_type": "code",
   "execution_count": null,
   "id": "ecf2d8d6",
   "metadata": {},
   "outputs": [],
   "source": [
    "# Download data\n",
    "session = MRAPI.MRAPIClient(api_key)\n",
    "session.set_request_uid(user_id)\n",
    "\n",
    "session.set_request_params(page=1, limit=100)\n",
    "session.get_total_data()"
   ]
  },
  {
   "cell_type": "code",
   "execution_count": 2,
   "id": "b1fbcee1",
   "metadata": {},
   "outputs": [],
   "source": [
    "# Clean up the data\n",
    "cleaner = MRAPI.DataCleaner()"
   ]
  },
  {
   "cell_type": "code",
   "execution_count": null,
   "id": "3ebd1ff7",
   "metadata": {},
   "outputs": [],
   "source": [
    "cleaner.clean()\n",
    "cleaner.fix_file_headers()"
   ]
  }
 ],
 "metadata": {
  "kernelspec": {
   "display_name": "base",
   "language": "python",
   "name": "python3"
  },
  "language_info": {
   "codemirror_mode": {
    "name": "ipython",
    "version": 3
   },
   "file_extension": ".py",
   "mimetype": "text/x-python",
   "name": "python",
   "nbconvert_exporter": "python",
   "pygments_lexer": "ipython3",
   "version": "3.12.7"
  }
 },
 "nbformat": 4,
 "nbformat_minor": 5
}
